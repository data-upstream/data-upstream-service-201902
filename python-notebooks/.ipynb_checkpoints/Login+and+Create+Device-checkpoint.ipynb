{
 "cells": [
  {
   "cell_type": "code",
   "execution_count": null,
   "metadata": {},
   "outputs": [],
   "source": [
    "import requests\n",
    "import json\n",
    "import os\n",
    "\n",
    "# CONFIG\n",
    "BASE_URL='http://localhost:3000/api/v1/'\n",
    "user = os.environ['USER']\n",
    "password = os.environ['PASSWORD']\n",
    "user"
   ]
  },
  {
   "cell_type": "markdown",
   "metadata": {},
   "source": [
    "# Sign-up"
   ]
  },
  {
   "cell_type": "code",
   "execution_count": 10,
   "metadata": {
    "collapsed": true
   },
   "outputs": [],
   "source": [
    "r = requests.get('https://api.github.com/events')"
   ]
  },
  {
   "cell_type": "code",
   "execution_count": 11,
   "metadata": {},
   "outputs": [
    {
     "data": {
      "text/plain": [
       "200"
      ]
     },
     "execution_count": 11,
     "metadata": {},
     "output_type": "execute_result"
    }
   ],
   "source": [
    "#r.json()\n",
    "r.status_code"
   ]
  },
  {
   "cell_type": "code",
   "execution_count": 27,
   "metadata": {
    "collapsed": true
   },
   "outputs": [],
   "source": [
    "r = requests.post('http://localhost:3000/api/v1/users.json', data = {'email':user, 'password':password})"
   ]
  },
  {
   "cell_type": "code",
   "execution_count": 28,
   "metadata": {},
   "outputs": [
    {
     "data": {
      "text/plain": [
       "422"
      ]
     },
     "execution_count": 28,
     "metadata": {},
     "output_type": "execute_result"
    }
   ],
   "source": [
    "r.status_code"
   ]
  },
  {
   "cell_type": "code",
   "execution_count": 14,
   "metadata": {},
   "outputs": [
    {
     "data": {
      "text/plain": [
       "{'error': 'Not Found',\n",
       " 'exception': '#<ActionController::RoutingError: uninitialized constant Api::V1::ApplicationController::Sessions>',\n",
       " 'status': 404,\n",
       " 'traces': {'Application Trace': [{'id': 0,\n",
       "    'trace': \"app/controllers/api/v1/application_controller.rb:8:in `<class:ApplicationController>'\"},\n",
       "   {'id': 1,\n",
       "    'trace': \"app/controllers/api/v1/application_controller.rb:3:in `<module:V1>'\"},\n",
       "   {'id': 2,\n",
       "    'trace': \"app/controllers/api/v1/application_controller.rb:1:in `<main>'\"},\n",
       "   {'id': 6,\n",
       "    'trace': \"app/controllers/api/v1/users_controller.rb:2:in `<main>'\"},\n",
       "   {'id': 7,\n",
       "    'trace': \"app/controllers/api/v1/users_controller.rb:1:in `block in load'\"},\n",
       "   {'id': 8,\n",
       "    'trace': \"app/controllers/api/v1/users_controller.rb:1:in `block in <main>'\"}],\n",
       "  'Framework Trace': [{'id': 3,\n",
       "    'trace': \"activesupport (5.2.2) lib/active_support/dependencies/interlock.rb:14:in `loading'\"},\n",
       "   {'id': 4,\n",
       "    'trace': \"activesupport (5.2.2) lib/active_support/concurrency/share_lock.rb:151:in `exclusive'\"},\n",
       "   {'id': 5,\n",
       "    'trace': \"activesupport (5.2.2) lib/active_support/dependencies/interlock.rb:13:in `loading'\"},\n",
       "   {'id': 9,\n",
       "    'trace': \"activesupport (5.2.2) lib/active_support/dependencies/interlock.rb:14:in `loading'\"},\n",
       "   {'id': 10,\n",
       "    'trace': \"activesupport (5.2.2) lib/active_support/concurrency/share_lock.rb:151:in `exclusive'\"},\n",
       "   {'id': 11,\n",
       "    'trace': \"activesupport (5.2.2) lib/active_support/dependencies/interlock.rb:13:in `loading'\"},\n",
       "   {'id': 12,\n",
       "    'trace': \"activesupport (5.2.2) lib/active_support/inflector/methods.rb:285:in `block in const_get'\"},\n",
       "   {'id': 13,\n",
       "    'trace': \"activesupport (5.2.2) lib/active_support/inflector/methods.rb:285:in `block in constantize'\"},\n",
       "   {'id': 14,\n",
       "    'trace': \"activesupport (5.2.2) lib/active_support/inflector/methods.rb:281:in `inject'\"},\n",
       "   {'id': 15,\n",
       "    'trace': \"activesupport (5.2.2) lib/active_support/inflector/methods.rb:281:in `constantize'\"},\n",
       "   {'id': 16,\n",
       "    'trace': \"actionpack (5.2.2) lib/action_dispatch/http/request.rb:88:in `controller_class_for'\"},\n",
       "   {'id': 17,\n",
       "    'trace': \"actionpack (5.2.2) lib/action_dispatch/http/request.rb:81:in `controller_class'\"},\n",
       "   {'id': 18,\n",
       "    'trace': \"actionpack (5.2.2) lib/action_dispatch/routing/route_set.rb:46:in `block in controller'\"},\n",
       "   {'id': 19,\n",
       "    'trace': \"actionpack (5.2.2) lib/action_dispatch/routing/route_set.rb:32:in `each'\"},\n",
       "   {'id': 20,\n",
       "    'trace': \"actionpack (5.2.2) lib/action_dispatch/routing/route_set.rb:32:in `serve'\"},\n",
       "   {'id': 21,\n",
       "    'trace': \"actionpack (5.2.2) lib/action_dispatch/journey/router.rb:52:in `serve'\"},\n",
       "   {'id': 22,\n",
       "    'trace': \"actionpack (5.2.2) lib/action_dispatch/journey/router.rb:35:in `block in serve'\"},\n",
       "   {'id': 23,\n",
       "    'trace': \"actionpack (5.2.2) lib/action_dispatch/routing/route_set.rb:840:in `catch'\"},\n",
       "   {'id': 24,\n",
       "    'trace': \"actionpack (5.2.2) lib/action_dispatch/routing/route_set.rb:840:in `call'\"},\n",
       "   {'id': 25, 'trace': \"warden (1.2.8) lib/warden/manager.rb:36:in `call'\"},\n",
       "   {'id': 26, 'trace': \"warden (1.2.8) lib/warden/manager.rb:34:in `call'\"},\n",
       "   {'id': 27, 'trace': \"rack (2.0.6) lib/rack/etag.rb:25:in `call'\"},\n",
       "   {'id': 28,\n",
       "    'trace': \"rack (2.0.6) lib/rack/conditional_get.rb:38:in `call'\"},\n",
       "   {'id': 29, 'trace': \"rack (2.0.6) lib/rack/head.rb:12:in `block in call'\"},\n",
       "   {'id': 30,\n",
       "    'trace': \"activerecord (5.2.2) lib/active_record/migration.rb:559:in `call'\"},\n",
       "   {'id': 31,\n",
       "    'trace': \"actionpack (5.2.2) lib/action_dispatch/middleware/callbacks.rb:28:in `call'\"},\n",
       "   {'id': 32,\n",
       "    'trace': \"activesupport (5.2.2) lib/active_support/callbacks.rb:98:in `run_callbacks'\"},\n",
       "   {'id': 33,\n",
       "    'trace': \"actionpack (5.2.2) lib/action_dispatch/middleware/callbacks.rb:26:in `call'\"},\n",
       "   {'id': 34,\n",
       "    'trace': \"actionpack (5.2.2) lib/action_dispatch/middleware/executor.rb:14:in `call'\"},\n",
       "   {'id': 35,\n",
       "    'trace': \"actionpack (5.2.2) lib/action_dispatch/middleware/debug_exceptions.rb:61:in `call'\"},\n",
       "   {'id': 36,\n",
       "    'trace': \"actionpack (5.2.2) lib/action_dispatch/middleware/show_exceptions.rb:33:in `block in call'\"},\n",
       "   {'id': 37,\n",
       "    'trace': \"railties (5.2.2) lib/rails/rack/logger.rb:38:in `block in call_app'\"},\n",
       "   {'id': 38,\n",
       "    'trace': \"railties (5.2.2) lib/rails/rack/logger.rb:26:in `call'\"},\n",
       "   {'id': 39,\n",
       "    'trace': \"activesupport (5.2.2) lib/active_support/tagged_logging.rb:71:in `tagged'\"},\n",
       "   {'id': 40,\n",
       "    'trace': \"activesupport (5.2.2) lib/active_support/tagged_logging.rb:28:in `tagged'\"},\n",
       "   {'id': 41,\n",
       "    'trace': \"activesupport (5.2.2) lib/active_support/tagged_logging.rb:71:in `tagged'\"},\n",
       "   {'id': 42,\n",
       "    'trace': \"railties (5.2.2) lib/rails/rack/logger.rb:26:in `call'\"},\n",
       "   {'id': 43,\n",
       "    'trace': \"actionpack (5.2.2) lib/action_dispatch/middleware/remote_ip.rb:81:in `call'\"},\n",
       "   {'id': 44,\n",
       "    'trace': \"actionpack (5.2.2) lib/action_dispatch/middleware/request_id.rb:27:in `call'\"},\n",
       "   {'id': 45, 'trace': \"rack (2.0.6) lib/rack/runtime.rb:22:in `call'\"},\n",
       "   {'id': 46,\n",
       "    'trace': \"activesupport (5.2.2) lib/active_support/cache/strategy/local_cache_middleware.rb:29:in `call'\"},\n",
       "   {'id': 47,\n",
       "    'trace': \"actionpack (5.2.2) lib/action_dispatch/middleware/executor.rb:14:in `call'\"},\n",
       "   {'id': 48,\n",
       "    'trace': \"actionpack (5.2.2) lib/action_dispatch/middleware/static.rb:127:in `call'\"},\n",
       "   {'id': 49, 'trace': \"rack (2.0.6) lib/rack/sendfile.rb:111:in `call'\"},\n",
       "   {'id': 50, 'trace': \"railties (5.2.2) lib/rails/engine.rb:524:in `call'\"},\n",
       "   {'id': 51,\n",
       "    'trace': \"puma-3.12.0 (java) lib/puma/configuration.rb:225:in `call'\"},\n",
       "   {'id': 52,\n",
       "    'trace': \"puma-3.12.0 (java) lib/puma/server.rb:658:in `block in handle_request'\"},\n",
       "   {'id': 53,\n",
       "    'trace': \"puma-3.12.0 (java) lib/puma/server.rb:472:in `block in process_client'\"}],\n",
       "  'Full Trace': [{'id': 0,\n",
       "    'trace': \"app/controllers/api/v1/application_controller.rb:8:in `<class:ApplicationController>'\"},\n",
       "   {'id': 1,\n",
       "    'trace': \"app/controllers/api/v1/application_controller.rb:3:in `<module:V1>'\"},\n",
       "   {'id': 2,\n",
       "    'trace': \"app/controllers/api/v1/application_controller.rb:1:in `<main>'\"},\n",
       "   {'id': 3,\n",
       "    'trace': \"activesupport (5.2.2) lib/active_support/dependencies/interlock.rb:14:in `loading'\"},\n",
       "   {'id': 4,\n",
       "    'trace': \"activesupport (5.2.2) lib/active_support/concurrency/share_lock.rb:151:in `exclusive'\"},\n",
       "   {'id': 5,\n",
       "    'trace': \"activesupport (5.2.2) lib/active_support/dependencies/interlock.rb:13:in `loading'\"},\n",
       "   {'id': 6,\n",
       "    'trace': \"app/controllers/api/v1/users_controller.rb:2:in `<main>'\"},\n",
       "   {'id': 7,\n",
       "    'trace': \"app/controllers/api/v1/users_controller.rb:1:in `block in load'\"},\n",
       "   {'id': 8,\n",
       "    'trace': \"app/controllers/api/v1/users_controller.rb:1:in `block in <main>'\"},\n",
       "   {'id': 9,\n",
       "    'trace': \"activesupport (5.2.2) lib/active_support/dependencies/interlock.rb:14:in `loading'\"},\n",
       "   {'id': 10,\n",
       "    'trace': \"activesupport (5.2.2) lib/active_support/concurrency/share_lock.rb:151:in `exclusive'\"},\n",
       "   {'id': 11,\n",
       "    'trace': \"activesupport (5.2.2) lib/active_support/dependencies/interlock.rb:13:in `loading'\"},\n",
       "   {'id': 12,\n",
       "    'trace': \"activesupport (5.2.2) lib/active_support/inflector/methods.rb:285:in `block in const_get'\"},\n",
       "   {'id': 13,\n",
       "    'trace': \"activesupport (5.2.2) lib/active_support/inflector/methods.rb:285:in `block in constantize'\"},\n",
       "   {'id': 14,\n",
       "    'trace': \"activesupport (5.2.2) lib/active_support/inflector/methods.rb:281:in `inject'\"},\n",
       "   {'id': 15,\n",
       "    'trace': \"activesupport (5.2.2) lib/active_support/inflector/methods.rb:281:in `constantize'\"},\n",
       "   {'id': 16,\n",
       "    'trace': \"actionpack (5.2.2) lib/action_dispatch/http/request.rb:88:in `controller_class_for'\"},\n",
       "   {'id': 17,\n",
       "    'trace': \"actionpack (5.2.2) lib/action_dispatch/http/request.rb:81:in `controller_class'\"},\n",
       "   {'id': 18,\n",
       "    'trace': \"actionpack (5.2.2) lib/action_dispatch/routing/route_set.rb:46:in `block in controller'\"},\n",
       "   {'id': 19,\n",
       "    'trace': \"actionpack (5.2.2) lib/action_dispatch/routing/route_set.rb:32:in `each'\"},\n",
       "   {'id': 20,\n",
       "    'trace': \"actionpack (5.2.2) lib/action_dispatch/routing/route_set.rb:32:in `serve'\"},\n",
       "   {'id': 21,\n",
       "    'trace': \"actionpack (5.2.2) lib/action_dispatch/journey/router.rb:52:in `serve'\"},\n",
       "   {'id': 22,\n",
       "    'trace': \"actionpack (5.2.2) lib/action_dispatch/journey/router.rb:35:in `block in serve'\"},\n",
       "   {'id': 23,\n",
       "    'trace': \"actionpack (5.2.2) lib/action_dispatch/routing/route_set.rb:840:in `catch'\"},\n",
       "   {'id': 24,\n",
       "    'trace': \"actionpack (5.2.2) lib/action_dispatch/routing/route_set.rb:840:in `call'\"},\n",
       "   {'id': 25, 'trace': \"warden (1.2.8) lib/warden/manager.rb:36:in `call'\"},\n",
       "   {'id': 26, 'trace': \"warden (1.2.8) lib/warden/manager.rb:34:in `call'\"},\n",
       "   {'id': 27, 'trace': \"rack (2.0.6) lib/rack/etag.rb:25:in `call'\"},\n",
       "   {'id': 28,\n",
       "    'trace': \"rack (2.0.6) lib/rack/conditional_get.rb:38:in `call'\"},\n",
       "   {'id': 29, 'trace': \"rack (2.0.6) lib/rack/head.rb:12:in `block in call'\"},\n",
       "   {'id': 30,\n",
       "    'trace': \"activerecord (5.2.2) lib/active_record/migration.rb:559:in `call'\"},\n",
       "   {'id': 31,\n",
       "    'trace': \"actionpack (5.2.2) lib/action_dispatch/middleware/callbacks.rb:28:in `call'\"},\n",
       "   {'id': 32,\n",
       "    'trace': \"activesupport (5.2.2) lib/active_support/callbacks.rb:98:in `run_callbacks'\"},\n",
       "   {'id': 33,\n",
       "    'trace': \"actionpack (5.2.2) lib/action_dispatch/middleware/callbacks.rb:26:in `call'\"},\n",
       "   {'id': 34,\n",
       "    'trace': \"actionpack (5.2.2) lib/action_dispatch/middleware/executor.rb:14:in `call'\"},\n",
       "   {'id': 35,\n",
       "    'trace': \"actionpack (5.2.2) lib/action_dispatch/middleware/debug_exceptions.rb:61:in `call'\"},\n",
       "   {'id': 36,\n",
       "    'trace': \"actionpack (5.2.2) lib/action_dispatch/middleware/show_exceptions.rb:33:in `block in call'\"},\n",
       "   {'id': 37,\n",
       "    'trace': \"railties (5.2.2) lib/rails/rack/logger.rb:38:in `block in call_app'\"},\n",
       "   {'id': 38,\n",
       "    'trace': \"railties (5.2.2) lib/rails/rack/logger.rb:26:in `call'\"},\n",
       "   {'id': 39,\n",
       "    'trace': \"activesupport (5.2.2) lib/active_support/tagged_logging.rb:71:in `tagged'\"},\n",
       "   {'id': 40,\n",
       "    'trace': \"activesupport (5.2.2) lib/active_support/tagged_logging.rb:28:in `tagged'\"},\n",
       "   {'id': 41,\n",
       "    'trace': \"activesupport (5.2.2) lib/active_support/tagged_logging.rb:71:in `tagged'\"},\n",
       "   {'id': 42,\n",
       "    'trace': \"railties (5.2.2) lib/rails/rack/logger.rb:26:in `call'\"},\n",
       "   {'id': 43,\n",
       "    'trace': \"actionpack (5.2.2) lib/action_dispatch/middleware/remote_ip.rb:81:in `call'\"},\n",
       "   {'id': 44,\n",
       "    'trace': \"actionpack (5.2.2) lib/action_dispatch/middleware/request_id.rb:27:in `call'\"},\n",
       "   {'id': 45, 'trace': \"rack (2.0.6) lib/rack/runtime.rb:22:in `call'\"},\n",
       "   {'id': 46,\n",
       "    'trace': \"activesupport (5.2.2) lib/active_support/cache/strategy/local_cache_middleware.rb:29:in `call'\"},\n",
       "   {'id': 47,\n",
       "    'trace': \"actionpack (5.2.2) lib/action_dispatch/middleware/executor.rb:14:in `call'\"},\n",
       "   {'id': 48,\n",
       "    'trace': \"actionpack (5.2.2) lib/action_dispatch/middleware/static.rb:127:in `call'\"},\n",
       "   {'id': 49, 'trace': \"rack (2.0.6) lib/rack/sendfile.rb:111:in `call'\"},\n",
       "   {'id': 50, 'trace': \"railties (5.2.2) lib/rails/engine.rb:524:in `call'\"},\n",
       "   {'id': 51,\n",
       "    'trace': \"puma-3.12.0 (java) lib/puma/configuration.rb:225:in `call'\"},\n",
       "   {'id': 52,\n",
       "    'trace': \"puma-3.12.0 (java) lib/puma/server.rb:658:in `block in handle_request'\"},\n",
       "   {'id': 53,\n",
       "    'trace': \"puma-3.12.0 (java) lib/puma/server.rb:472:in `block in process_client'\"}]}}"
      ]
     },
     "execution_count": 14,
     "metadata": {},
     "output_type": "execute_result"
    }
   ],
   "source": [
    "r.json()"
   ]
  },
  {
   "cell_type": "markdown",
   "metadata": {},
   "source": [
    "# Sign-in"
   ]
  },
  {
   "cell_type": "code",
   "execution_count": null,
   "metadata": {},
   "outputs": [],
   "source": [
    "r1 = requests.post(BASE_URL + '/users/access_token.json', data = {'email':user, 'password':password}, verify=False)"
   ]
  },
  {
   "cell_type": "code",
   "execution_count": null,
   "metadata": {},
   "outputs": [],
   "source": [
    "r1.status_code"
   ]
  },
  {
   "cell_type": "code",
   "execution_count": null,
   "metadata": {},
   "outputs": [],
   "source": [
    "r1.json()"
   ]
  },
  {
   "cell_type": "code",
   "execution_count": 10,
   "metadata": {},
   "outputs": [
    {
     "data": {
      "text/plain": [
       "{'Content-type': 'application/json',\n",
       " 'X-Access-Token': '970e2541-7de2-449f-8696-363cf492c0f6'}"
      ]
     },
     "execution_count": 10,
     "metadata": {},
     "output_type": "execute_result"
    }
   ],
   "source": [
    "#r.json()['access_token']['token']\n",
    "headers = {'X-Access-Token': r1.json()['access_token']['token']}\n",
    "headers['Content-type']='application/json'\n",
    "headers"
   ]
  },
  {
   "cell_type": "markdown",
   "metadata": {},
   "source": [
    "# Create Devices"
   ]
  },
  {
   "cell_type": "code",
   "execution_count": 21,
   "metadata": {
    "collapsed": true
   },
   "outputs": [],
   "source": [
    "newDev = requests.post(BASE_URL + '/users/streams.json?name=test&key_rotation_enabled=false', data={'name':'test', 'key_rotation_enabled':'false'}, headers=headers)"
   ]
  },
  {
   "cell_type": "code",
   "execution_count": 22,
   "metadata": {},
   "outputs": [
    {
     "data": {
      "text/plain": [
       "500"
      ]
     },
     "execution_count": 22,
     "metadata": {},
     "output_type": "execute_result"
    }
   ],
   "source": [
    "newDev.status_code"
   ]
  },
  {
   "cell_type": "code",
   "execution_count": 36,
   "metadata": {},
   "outputs": [
    {
     "data": {
      "text/plain": [
       "{'error': 'Bad Request',\n",
       " 'exception': \"#<ActionDispatch::Http::Parameters::ParseError: unexpected token at 'name=test&key_rotation_enabled=true'>\",\n",
       " 'status': 400,\n",
       " 'traces': {'Application Trace': [],\n",
       "  'Framework Trace': [{'id': 0,\n",
       "    'trace': \"actionpack (5.2.2) lib/action_dispatch/http/parameters.rb:117:in `parse_formatted_parameters'\"},\n",
       "   {'id': 1,\n",
       "    'trace': \"actionpack (5.2.2) lib/action_dispatch/http/request.rb:381:in `block in POST'\"},\n",
       "   {'id': 2, 'trace': \"org/jruby/RubyHash.java:1263:in `fetch'\"},\n",
       "   {'id': 3, 'trace': \"rack (2.0.6) lib/rack/request.rb:59:in `fetch_header'\"},\n",
       "   {'id': 4,\n",
       "    'trace': \"actionpack (5.2.2) lib/action_dispatch/http/request.rb:380:in `POST'\"},\n",
       "   {'id': 5,\n",
       "    'trace': \"actionpack (5.2.2) lib/action_dispatch/http/parameters.rb:55:in `parameters'\"},\n",
       "   {'id': 6,\n",
       "    'trace': \"actionpack (5.2.2) lib/action_controller/metal/params_wrapper.rb:290:in `_wrapper_enabled?'\"},\n",
       "   {'id': 7,\n",
       "    'trace': \"actionpack (5.2.2) lib/action_controller/metal/params_wrapper.rb:244:in `process_action'\"},\n",
       "   {'id': 8,\n",
       "    'trace': \"activerecord (5.2.2) lib/active_record/railties/controller_runtime.rb:24:in `process_action'\"},\n",
       "   {'id': 9,\n",
       "    'trace': \"actionpack (5.2.2) lib/abstract_controller/base.rb:134:in `process'\"},\n",
       "   {'id': 10,\n",
       "    'trace': \"actionpack (5.2.2) lib/action_controller/metal.rb:191:in `dispatch'\"},\n",
       "   {'id': 11,\n",
       "    'trace': \"actionpack (5.2.2) lib/action_controller/metal.rb:252:in `dispatch'\"},\n",
       "   {'id': 12,\n",
       "    'trace': \"actionpack (5.2.2) lib/action_dispatch/routing/route_set.rb:52:in `dispatch'\"},\n",
       "   {'id': 13,\n",
       "    'trace': \"actionpack (5.2.2) lib/action_dispatch/routing/route_set.rb:34:in `serve'\"},\n",
       "   {'id': 14,\n",
       "    'trace': \"actionpack (5.2.2) lib/action_dispatch/journey/router.rb:52:in `block in serve'\"},\n",
       "   {'id': 15, 'trace': \"org/jruby/RubyArray.java:1792:in `each'\"},\n",
       "   {'id': 16,\n",
       "    'trace': \"actionpack (5.2.2) lib/action_dispatch/journey/router.rb:35:in `serve'\"},\n",
       "   {'id': 17,\n",
       "    'trace': \"actionpack (5.2.2) lib/action_dispatch/routing/route_set.rb:840:in `call'\"},\n",
       "   {'id': 18,\n",
       "    'trace': \"warden (1.2.8) lib/warden/manager.rb:36:in `block in call'\"},\n",
       "   {'id': 19, 'trace': \"org/jruby/RubyKernel.java:1181:in `catch'\"},\n",
       "   {'id': 20, 'trace': \"warden (1.2.8) lib/warden/manager.rb:34:in `call'\"},\n",
       "   {'id': 21, 'trace': \"rack (2.0.6) lib/rack/etag.rb:25:in `call'\"},\n",
       "   {'id': 22,\n",
       "    'trace': \"rack (2.0.6) lib/rack/conditional_get.rb:38:in `call'\"},\n",
       "   {'id': 23, 'trace': \"rack (2.0.6) lib/rack/head.rb:12:in `call'\"},\n",
       "   {'id': 24,\n",
       "    'trace': \"activerecord (5.2.2) lib/active_record/migration.rb:559:in `call'\"},\n",
       "   {'id': 25,\n",
       "    'trace': \"actionpack (5.2.2) lib/action_dispatch/middleware/callbacks.rb:28:in `block in call'\"},\n",
       "   {'id': 26,\n",
       "    'trace': \"activesupport (5.2.2) lib/active_support/callbacks.rb:98:in `run_callbacks'\"},\n",
       "   {'id': 27,\n",
       "    'trace': \"actionpack (5.2.2) lib/action_dispatch/middleware/callbacks.rb:26:in `call'\"},\n",
       "   {'id': 28,\n",
       "    'trace': \"actionpack (5.2.2) lib/action_dispatch/middleware/executor.rb:14:in `call'\"},\n",
       "   {'id': 29,\n",
       "    'trace': \"actionpack (5.2.2) lib/action_dispatch/middleware/debug_exceptions.rb:61:in `call'\"},\n",
       "   {'id': 30,\n",
       "    'trace': \"actionpack (5.2.2) lib/action_dispatch/middleware/show_exceptions.rb:33:in `call'\"},\n",
       "   {'id': 31,\n",
       "    'trace': \"railties (5.2.2) lib/rails/rack/logger.rb:38:in `call_app'\"},\n",
       "   {'id': 32,\n",
       "    'trace': \"railties (5.2.2) lib/rails/rack/logger.rb:26:in `block in call'\"},\n",
       "   {'id': 33,\n",
       "    'trace': \"activesupport (5.2.2) lib/active_support/tagged_logging.rb:71:in `block in tagged'\"},\n",
       "   {'id': 34,\n",
       "    'trace': \"activesupport (5.2.2) lib/active_support/tagged_logging.rb:28:in `tagged'\"},\n",
       "   {'id': 35,\n",
       "    'trace': \"activesupport (5.2.2) lib/active_support/tagged_logging.rb:71:in `tagged'\"},\n",
       "   {'id': 36,\n",
       "    'trace': \"railties (5.2.2) lib/rails/rack/logger.rb:26:in `call'\"},\n",
       "   {'id': 37,\n",
       "    'trace': \"actionpack (5.2.2) lib/action_dispatch/middleware/remote_ip.rb:81:in `call'\"},\n",
       "   {'id': 38,\n",
       "    'trace': \"actionpack (5.2.2) lib/action_dispatch/middleware/request_id.rb:27:in `call'\"},\n",
       "   {'id': 39, 'trace': \"rack (2.0.6) lib/rack/runtime.rb:22:in `call'\"},\n",
       "   {'id': 40,\n",
       "    'trace': \"activesupport (5.2.2) lib/active_support/cache/strategy/local_cache_middleware.rb:29:in `call'\"},\n",
       "   {'id': 41,\n",
       "    'trace': \"actionpack (5.2.2) lib/action_dispatch/middleware/executor.rb:14:in `call'\"},\n",
       "   {'id': 42,\n",
       "    'trace': \"actionpack (5.2.2) lib/action_dispatch/middleware/static.rb:127:in `call'\"},\n",
       "   {'id': 43, 'trace': \"rack (2.0.6) lib/rack/sendfile.rb:111:in `call'\"},\n",
       "   {'id': 44, 'trace': \"railties (5.2.2) lib/rails/engine.rb:524:in `call'\"},\n",
       "   {'id': 45,\n",
       "    'trace': \"puma-3.12.0 (java) lib/puma/configuration.rb:225:in `call'\"},\n",
       "   {'id': 46,\n",
       "    'trace': \"puma-3.12.0 (java) lib/puma/server.rb:658:in `handle_request'\"},\n",
       "   {'id': 47,\n",
       "    'trace': \"puma-3.12.0 (java) lib/puma/server.rb:472:in `process_client'\"},\n",
       "   {'id': 48,\n",
       "    'trace': \"puma-3.12.0 (java) lib/puma/server.rb:332:in `block in run'\"},\n",
       "   {'id': 49,\n",
       "    'trace': \"puma-3.12.0 (java) lib/puma/thread_pool.rb:133:in `block in spawn_thread'\"}],\n",
       "  'Full Trace': [{'id': 0,\n",
       "    'trace': \"actionpack (5.2.2) lib/action_dispatch/http/parameters.rb:117:in `parse_formatted_parameters'\"},\n",
       "   {'id': 1,\n",
       "    'trace': \"actionpack (5.2.2) lib/action_dispatch/http/request.rb:381:in `block in POST'\"},\n",
       "   {'id': 2, 'trace': \"org/jruby/RubyHash.java:1263:in `fetch'\"},\n",
       "   {'id': 3, 'trace': \"rack (2.0.6) lib/rack/request.rb:59:in `fetch_header'\"},\n",
       "   {'id': 4,\n",
       "    'trace': \"actionpack (5.2.2) lib/action_dispatch/http/request.rb:380:in `POST'\"},\n",
       "   {'id': 5,\n",
       "    'trace': \"actionpack (5.2.2) lib/action_dispatch/http/parameters.rb:55:in `parameters'\"},\n",
       "   {'id': 6,\n",
       "    'trace': \"actionpack (5.2.2) lib/action_controller/metal/params_wrapper.rb:290:in `_wrapper_enabled?'\"},\n",
       "   {'id': 7,\n",
       "    'trace': \"actionpack (5.2.2) lib/action_controller/metal/params_wrapper.rb:244:in `process_action'\"},\n",
       "   {'id': 8,\n",
       "    'trace': \"activerecord (5.2.2) lib/active_record/railties/controller_runtime.rb:24:in `process_action'\"},\n",
       "   {'id': 9,\n",
       "    'trace': \"actionpack (5.2.2) lib/abstract_controller/base.rb:134:in `process'\"},\n",
       "   {'id': 10,\n",
       "    'trace': \"actionpack (5.2.2) lib/action_controller/metal.rb:191:in `dispatch'\"},\n",
       "   {'id': 11,\n",
       "    'trace': \"actionpack (5.2.2) lib/action_controller/metal.rb:252:in `dispatch'\"},\n",
       "   {'id': 12,\n",
       "    'trace': \"actionpack (5.2.2) lib/action_dispatch/routing/route_set.rb:52:in `dispatch'\"},\n",
       "   {'id': 13,\n",
       "    'trace': \"actionpack (5.2.2) lib/action_dispatch/routing/route_set.rb:34:in `serve'\"},\n",
       "   {'id': 14,\n",
       "    'trace': \"actionpack (5.2.2) lib/action_dispatch/journey/router.rb:52:in `block in serve'\"},\n",
       "   {'id': 15, 'trace': \"org/jruby/RubyArray.java:1792:in `each'\"},\n",
       "   {'id': 16,\n",
       "    'trace': \"actionpack (5.2.2) lib/action_dispatch/journey/router.rb:35:in `serve'\"},\n",
       "   {'id': 17,\n",
       "    'trace': \"actionpack (5.2.2) lib/action_dispatch/routing/route_set.rb:840:in `call'\"},\n",
       "   {'id': 18,\n",
       "    'trace': \"warden (1.2.8) lib/warden/manager.rb:36:in `block in call'\"},\n",
       "   {'id': 19, 'trace': \"org/jruby/RubyKernel.java:1181:in `catch'\"},\n",
       "   {'id': 20, 'trace': \"warden (1.2.8) lib/warden/manager.rb:34:in `call'\"},\n",
       "   {'id': 21, 'trace': \"rack (2.0.6) lib/rack/etag.rb:25:in `call'\"},\n",
       "   {'id': 22,\n",
       "    'trace': \"rack (2.0.6) lib/rack/conditional_get.rb:38:in `call'\"},\n",
       "   {'id': 23, 'trace': \"rack (2.0.6) lib/rack/head.rb:12:in `call'\"},\n",
       "   {'id': 24,\n",
       "    'trace': \"activerecord (5.2.2) lib/active_record/migration.rb:559:in `call'\"},\n",
       "   {'id': 25,\n",
       "    'trace': \"actionpack (5.2.2) lib/action_dispatch/middleware/callbacks.rb:28:in `block in call'\"},\n",
       "   {'id': 26,\n",
       "    'trace': \"activesupport (5.2.2) lib/active_support/callbacks.rb:98:in `run_callbacks'\"},\n",
       "   {'id': 27,\n",
       "    'trace': \"actionpack (5.2.2) lib/action_dispatch/middleware/callbacks.rb:26:in `call'\"},\n",
       "   {'id': 28,\n",
       "    'trace': \"actionpack (5.2.2) lib/action_dispatch/middleware/executor.rb:14:in `call'\"},\n",
       "   {'id': 29,\n",
       "    'trace': \"actionpack (5.2.2) lib/action_dispatch/middleware/debug_exceptions.rb:61:in `call'\"},\n",
       "   {'id': 30,\n",
       "    'trace': \"actionpack (5.2.2) lib/action_dispatch/middleware/show_exceptions.rb:33:in `call'\"},\n",
       "   {'id': 31,\n",
       "    'trace': \"railties (5.2.2) lib/rails/rack/logger.rb:38:in `call_app'\"},\n",
       "   {'id': 32,\n",
       "    'trace': \"railties (5.2.2) lib/rails/rack/logger.rb:26:in `block in call'\"},\n",
       "   {'id': 33,\n",
       "    'trace': \"activesupport (5.2.2) lib/active_support/tagged_logging.rb:71:in `block in tagged'\"},\n",
       "   {'id': 34,\n",
       "    'trace': \"activesupport (5.2.2) lib/active_support/tagged_logging.rb:28:in `tagged'\"},\n",
       "   {'id': 35,\n",
       "    'trace': \"activesupport (5.2.2) lib/active_support/tagged_logging.rb:71:in `tagged'\"},\n",
       "   {'id': 36,\n",
       "    'trace': \"railties (5.2.2) lib/rails/rack/logger.rb:26:in `call'\"},\n",
       "   {'id': 37,\n",
       "    'trace': \"actionpack (5.2.2) lib/action_dispatch/middleware/remote_ip.rb:81:in `call'\"},\n",
       "   {'id': 38,\n",
       "    'trace': \"actionpack (5.2.2) lib/action_dispatch/middleware/request_id.rb:27:in `call'\"},\n",
       "   {'id': 39, 'trace': \"rack (2.0.6) lib/rack/runtime.rb:22:in `call'\"},\n",
       "   {'id': 40,\n",
       "    'trace': \"activesupport (5.2.2) lib/active_support/cache/strategy/local_cache_middleware.rb:29:in `call'\"},\n",
       "   {'id': 41,\n",
       "    'trace': \"actionpack (5.2.2) lib/action_dispatch/middleware/executor.rb:14:in `call'\"},\n",
       "   {'id': 42,\n",
       "    'trace': \"actionpack (5.2.2) lib/action_dispatch/middleware/static.rb:127:in `call'\"},\n",
       "   {'id': 43, 'trace': \"rack (2.0.6) lib/rack/sendfile.rb:111:in `call'\"},\n",
       "   {'id': 44, 'trace': \"railties (5.2.2) lib/rails/engine.rb:524:in `call'\"},\n",
       "   {'id': 45,\n",
       "    'trace': \"puma-3.12.0 (java) lib/puma/configuration.rb:225:in `call'\"},\n",
       "   {'id': 46,\n",
       "    'trace': \"puma-3.12.0 (java) lib/puma/server.rb:658:in `handle_request'\"},\n",
       "   {'id': 47,\n",
       "    'trace': \"puma-3.12.0 (java) lib/puma/server.rb:472:in `process_client'\"},\n",
       "   {'id': 48,\n",
       "    'trace': \"puma-3.12.0 (java) lib/puma/server.rb:332:in `block in run'\"},\n",
       "   {'id': 49,\n",
       "    'trace': \"puma-3.12.0 (java) lib/puma/thread_pool.rb:133:in `block in spawn_thread'\"}]}}"
      ]
     },
     "execution_count": 36,
     "metadata": {},
     "output_type": "execute_result"
    }
   ],
   "source": [
    "newDev.json()"
   ]
  },
  {
   "cell_type": "code",
   "execution_count": 27,
   "metadata": {
    "collapsed": true
   },
   "outputs": [],
   "source": [
    "r2 = requests.get('http://vs2.sp33c.de/api/system_config/key_rotation', data={}, headers=headers)"
   ]
  },
  {
   "cell_type": "code",
   "execution_count": 28,
   "metadata": {},
   "outputs": [
    {
     "data": {
      "text/plain": [
       "200"
      ]
     },
     "execution_count": 28,
     "metadata": {},
     "output_type": "execute_result"
    }
   ],
   "source": [
    "r2.status_code"
   ]
  },
  {
   "cell_type": "code",
   "execution_count": 29,
   "metadata": {},
   "outputs": [
    {
     "data": {
      "text/plain": [
       "{'key_rotation': 'false'}"
      ]
     },
     "execution_count": 29,
     "metadata": {},
     "output_type": "execute_result"
    }
   ],
   "source": [
    "r2.json()"
   ]
  },
  {
   "cell_type": "markdown",
   "metadata": {},
   "source": [
    "### token check"
   ]
  },
  {
   "cell_type": "code",
   "execution_count": 386,
   "metadata": {},
   "outputs": [
    {
     "data": {
      "text/plain": [
       "10"
      ]
     },
     "execution_count": 386,
     "metadata": {},
     "output_type": "execute_result"
    }
   ],
   "source": [
    "tokens = r2.json()['access_tokens'];\n",
    "len(r2.json()['access_tokens'])"
   ]
  },
  {
   "cell_type": "markdown",
   "metadata": {},
   "source": [
    "### version 1"
   ]
  },
  {
   "cell_type": "code",
   "execution_count": 113,
   "metadata": {},
   "outputs": [
    {
     "name": "stdout",
     "output_type": "stream",
     "text": [
      "c0315f49-6d4c-407a-bdcc-a31cc577ccff\n",
      "30cf3f42-c2f9-4ade-b3a0-d0732138d1d1\n",
      "ef11d1c2-cc09-471f-90bd-02de0b3029ab\n",
      "ec49cbf1-2d34-4c8a-b587-d1a02a4d18b2\n",
      "d95a0846-f0ea-4f39-a15a-5645b6e89955\n",
      "806181f5-583b-4887-8daa-27ab07ac363b\n",
      "7c6b6c7f-b687-4fa8-a8a5-79c5bb743932\n",
      "36377a11-461b-42ee-80f8-6d4eb5a10ece\n",
      "7ff7b307-aec3-4fc8-aad7-73894f0a1bd5\n",
      "4607ce78-42f4-4c68-92c2-b56c96469689\n"
     ]
    }
   ],
   "source": [
    "for entry in tokens:\n",
    "    print (entry['token'])"
   ]
  },
  {
   "cell_type": "markdown",
   "metadata": {},
   "source": [
    "### version 2 (lambda)"
   ]
  },
  {
   "cell_type": "code",
   "execution_count": 358,
   "metadata": {},
   "outputs": [
    {
     "data": {
      "text/plain": [
       "['dc2e6b1e-4b78-477b-a199-96d5ebd0b5e9',\n",
       " '4e55d1b6-b7f0-486e-9a30-dfe0d358b856',\n",
       " '8f07c159-866f-4d68-be05-f4a5fd5f62bc',\n",
       " 'af170be7-899c-4ba3-910a-b7c83666b090',\n",
       " '0c4deeb3-216e-450f-b23e-56f76414837b',\n",
       " '0bea16fc-021c-446a-a009-1e5942dd1270',\n",
       " 'ffb42b80-7d91-4568-a1d6-bf0da8e2c97b',\n",
       " '2cec89f5-eac7-450b-b9e0-8224c3fa3c39',\n",
       " '22f01e0b-7804-465d-b64c-8ff1cdf6ffda',\n",
       " '71f7d496-357c-4832-9539-103a41e1ec98']"
      ]
     },
     "execution_count": 358,
     "metadata": {},
     "output_type": "execute_result"
    }
   ],
   "source": [
    "available_tokens = list(map(lambda entry: entry['token'], tokens))\n",
    "available_tokens"
   ]
  },
  {
   "cell_type": "code",
   "execution_count": 387,
   "metadata": {
    "collapsed": true
   },
   "outputs": [],
   "source": [
    "class MyAuth:\n",
    "\n",
    "    def tokens(self):\n",
    "        return self.tokens\n",
    "\n",
    "    def nextToken(self):\n",
    "        self.i = self.i % 10 + 1;\n",
    "        _token = self.tokens[self.i-1];\n",
    "        _token;\n",
    "        return _token;\n",
    "    \n",
    "    def setTokens(self, tokens):\n",
    "        self.tokens = tokens\n",
    "\n",
    "    def __init__(self, tokens=None):\n",
    "        self.i = 0\n",
    "        if (tokens is None):\n",
    "            raise ValueError('please initialize with tokens')\n",
    "        else:\n",
    "            self.tokens = tokens\n"
   ]
  },
  {
   "cell_type": "code",
   "execution_count": 388,
   "metadata": {
    "collapsed": true
   },
   "outputs": [],
   "source": [
    "auth = MyAuth(available_tokens);"
   ]
  },
  {
   "cell_type": "code",
   "execution_count": 389,
   "metadata": {},
   "outputs": [
    {
     "data": {
      "text/plain": [
       "['dc2e6b1e-4b78-477b-a199-96d5ebd0b5e9',\n",
       " '4e55d1b6-b7f0-486e-9a30-dfe0d358b856',\n",
       " '8f07c159-866f-4d68-be05-f4a5fd5f62bc',\n",
       " 'af170be7-899c-4ba3-910a-b7c83666b090',\n",
       " '0c4deeb3-216e-450f-b23e-56f76414837b',\n",
       " '0bea16fc-021c-446a-a009-1e5942dd1270',\n",
       " 'ffb42b80-7d91-4568-a1d6-bf0da8e2c97b',\n",
       " '2cec89f5-eac7-450b-b9e0-8224c3fa3c39',\n",
       " '22f01e0b-7804-465d-b64c-8ff1cdf6ffda',\n",
       " '71f7d496-357c-4832-9539-103a41e1ec98']"
      ]
     },
     "execution_count": 389,
     "metadata": {},
     "output_type": "execute_result"
    }
   ],
   "source": [
    "auth.tokens"
   ]
  },
  {
   "cell_type": "markdown",
   "metadata": {},
   "source": [
    "## How set Headers and play with key rotation"
   ]
  },
  {
   "cell_type": "code",
   "execution_count": 372,
   "metadata": {
    "collapsed": true
   },
   "outputs": [],
   "source": [
    "headers = {'X-Access-Token': r2.json()['access_tokens'][7]['token']}\n"
   ]
  },
  {
   "cell_type": "code",
   "execution_count": 390,
   "metadata": {
    "collapsed": true
   },
   "outputs": [],
   "source": [
    "headers = {'X-Access-Token': auth.nextToken()}"
   ]
  },
  {
   "cell_type": "code",
   "execution_count": 395,
   "metadata": {
    "collapsed": true
   },
   "outputs": [],
   "source": [
    "r3 = requests.post('http://vs2.sp33c.de/log_data.json', data={'payload': {'abc':2}}, headers=headers)"
   ]
  },
  {
   "cell_type": "code",
   "execution_count": 396,
   "metadata": {
    "collapsed": true
   },
   "outputs": [],
   "source": [
    "r3.status_code;"
   ]
  },
  {
   "cell_type": "code",
   "execution_count": 393,
   "metadata": {
    "collapsed": true
   },
   "outputs": [],
   "source": [
    "rread = requests.get('http://vs2.sp33c.de/log_data.json', headers = {'X-Access-Token': auth.nextToken()})"
   ]
  },
  {
   "cell_type": "code",
   "execution_count": 394,
   "metadata": {},
   "outputs": [
    {
     "data": {
      "text/plain": [
       "[{'created_at': '2017-05-27T16:18:04.613Z',\n",
       "  'device_id': 13,\n",
       "  'id': 18,\n",
       "  'payload': None,\n",
       "  'updated_at': '2017-05-27T16:18:04.613Z'}]"
      ]
     },
     "execution_count": 394,
     "metadata": {},
     "output_type": "execute_result"
    }
   ],
   "source": [
    "rread.status_code; rread.json()"
   ]
  },
  {
   "cell_type": "code",
   "execution_count": 397,
   "metadata": {},
   "outputs": [
    {
     "ename": "NameError",
     "evalue": "name 'np' is not defined",
     "output_type": "error",
     "traceback": [
      "\u001b[0;31m---------------------------------------------------------------------------\u001b[0m",
      "\u001b[0;31mNameError\u001b[0m                                 Traceback (most recent call last)",
      "\u001b[0;32m<ipython-input-397-f6b7ccc32cde>\u001b[0m in \u001b[0;36m<module>\u001b[0;34m()\u001b[0m\n\u001b[0;32m----> 1\u001b[0;31m \u001b[0mnp\u001b[0m\u001b[0;34m.\u001b[0m\u001b[0mrandom\u001b[0m\u001b[0;34m.\u001b[0m\u001b[0mseed\u001b[0m\u001b[0;34m(\u001b[0m\u001b[0;36m20\u001b[0m\u001b[0;34m)\u001b[0m\u001b[0;34m\u001b[0m\u001b[0m\n\u001b[0m",
      "\u001b[0;31mNameError\u001b[0m: name 'np' is not defined"
     ]
    }
   ],
   "source": [
    "np.random.seed(20)"
   ]
  },
  {
   "cell_type": "code",
   "execution_count": 6,
   "metadata": {
    "collapsed": true
   },
   "outputs": [],
   "source": [
    "# streams\n",
    "stream = requests.post('http://vs2.sp33c.de/api/users/streams.json', data={}, headers=headers)"
   ]
  },
  {
   "cell_type": "code",
   "execution_count": 8,
   "metadata": {},
   "outputs": [
    {
     "data": {
      "text/plain": [
       "<Response [200]>"
      ]
     },
     "execution_count": 8,
     "metadata": {},
     "output_type": "execute_result"
    }
   ],
   "source": [
    "stream"
   ]
  },
  {
   "cell_type": "code",
   "execution_count": 9,
   "metadata": {},
   "outputs": [
    {
     "data": {
      "text/plain": [
       "{'access_tokens': [{'created_at': '2017-07-08T17:32:22.493Z',\n",
       "   'device_id': 55,\n",
       "   'id': 532,\n",
       "   'sequence': 0,\n",
       "   'token': '44ca12c5-c6a8-45b4-a1d2-60382d2a43a2',\n",
       "   'updated_at': '2017-07-08T17:32:22.493Z'},\n",
       "  {'created_at': '2017-07-08T17:32:22.510Z',\n",
       "   'device_id': 55,\n",
       "   'id': 533,\n",
       "   'sequence': 1,\n",
       "   'token': 'a581d2d3-4e20-4ca6-81c3-f9ebc5412e36',\n",
       "   'updated_at': '2017-07-08T17:32:22.510Z'},\n",
       "  {'created_at': '2017-07-08T17:32:22.525Z',\n",
       "   'device_id': 55,\n",
       "   'id': 534,\n",
       "   'sequence': 2,\n",
       "   'token': '031260ab-b3b6-4eb3-9bda-f4a22d65dab1',\n",
       "   'updated_at': '2017-07-08T17:32:22.525Z'},\n",
       "  {'created_at': '2017-07-08T17:32:22.540Z',\n",
       "   'device_id': 55,\n",
       "   'id': 535,\n",
       "   'sequence': 3,\n",
       "   'token': '040853ae-eda4-4df2-9568-e9e50bf93b20',\n",
       "   'updated_at': '2017-07-08T17:32:22.540Z'},\n",
       "  {'created_at': '2017-07-08T17:32:22.559Z',\n",
       "   'device_id': 55,\n",
       "   'id': 536,\n",
       "   'sequence': 4,\n",
       "   'token': '123a6afc-1f54-4756-8621-d3b24e44307b',\n",
       "   'updated_at': '2017-07-08T17:32:22.559Z'},\n",
       "  {'created_at': '2017-07-08T17:32:22.576Z',\n",
       "   'device_id': 55,\n",
       "   'id': 537,\n",
       "   'sequence': 5,\n",
       "   'token': '50467857-86ef-4b5c-9876-6be469d463a5',\n",
       "   'updated_at': '2017-07-08T17:32:22.576Z'},\n",
       "  {'created_at': '2017-07-08T17:32:22.591Z',\n",
       "   'device_id': 55,\n",
       "   'id': 538,\n",
       "   'sequence': 6,\n",
       "   'token': '2d40b0f7-3bcf-4ffe-9761-8c2060a54085',\n",
       "   'updated_at': '2017-07-08T17:32:22.591Z'},\n",
       "  {'created_at': '2017-07-08T17:32:22.607Z',\n",
       "   'device_id': 55,\n",
       "   'id': 539,\n",
       "   'sequence': 7,\n",
       "   'token': '5d5c53f3-9f6b-46ae-b6f4-58a08847d0ee',\n",
       "   'updated_at': '2017-07-08T17:32:22.607Z'},\n",
       "  {'created_at': '2017-07-08T17:32:22.622Z',\n",
       "   'device_id': 55,\n",
       "   'id': 540,\n",
       "   'sequence': 8,\n",
       "   'token': 'a98b38b1-558d-4dcc-9a39-aeb7ae4b3bb9',\n",
       "   'updated_at': '2017-07-08T17:32:22.622Z'},\n",
       "  {'created_at': '2017-07-08T17:32:22.636Z',\n",
       "   'device_id': 55,\n",
       "   'id': 541,\n",
       "   'sequence': 9,\n",
       "   'token': '3c0713bc-3939-43af-a08e-b6c81028b242',\n",
       "   'updated_at': '2017-07-08T17:32:22.636Z'}],\n",
       " 'device': {'created_at': '2017-07-08T17:32:22.442Z',\n",
       "  'id': 55,\n",
       "  'key_rotation_enabled': False,\n",
       "  'last_used_key_sequence': -1,\n",
       "  'linked': False,\n",
       "  'name': None,\n",
       "  'updated_at': '2017-07-08T17:32:22.442Z',\n",
       "  'user_id': 10,\n",
       "  'uuid': '32b73843-5305-4a6d-a632-d2c7e494dd0e'}}"
      ]
     },
     "execution_count": 9,
     "metadata": {},
     "output_type": "execute_result"
    }
   ],
   "source": [
    "stream.json()"
   ]
  },
  {
   "cell_type": "code",
   "execution_count": 103,
   "metadata": {
    "collapsed": true
   },
   "outputs": [],
   "source": [
    "data = requests.post('http://vs2.sp33c.de/api/users/streams/', data={}, headers=headers)"
   ]
  },
  {
   "cell_type": "code",
   "execution_count": 105,
   "metadata": {},
   "outputs": [
    {
     "data": {
      "text/plain": [
       "{'access_tokens': [{'created_at': '2017-07-08T17:58:58.947Z',\n",
       "   'device_id': 56,\n",
       "   'id': 542,\n",
       "   'sequence': 0,\n",
       "   'token': 'aafbad29-0652-4927-ada6-d7744c20162c',\n",
       "   'updated_at': '2017-07-08T17:58:58.947Z'},\n",
       "  {'created_at': '2017-07-08T17:58:59.119Z',\n",
       "   'device_id': 56,\n",
       "   'id': 543,\n",
       "   'sequence': 1,\n",
       "   'token': 'd475e541-3b5a-4be3-82ad-3eb45be51738',\n",
       "   'updated_at': '2017-07-08T17:58:59.119Z'},\n",
       "  {'created_at': '2017-07-08T17:58:59.142Z',\n",
       "   'device_id': 56,\n",
       "   'id': 544,\n",
       "   'sequence': 2,\n",
       "   'token': '147bf8be-66f9-421c-b14b-c915713298df',\n",
       "   'updated_at': '2017-07-08T17:58:59.142Z'},\n",
       "  {'created_at': '2017-07-08T17:58:59.159Z',\n",
       "   'device_id': 56,\n",
       "   'id': 545,\n",
       "   'sequence': 3,\n",
       "   'token': 'da18254c-83b0-4219-81e1-abfad7b9cf42',\n",
       "   'updated_at': '2017-07-08T17:58:59.159Z'},\n",
       "  {'created_at': '2017-07-08T17:58:59.175Z',\n",
       "   'device_id': 56,\n",
       "   'id': 546,\n",
       "   'sequence': 4,\n",
       "   'token': 'd9731740-372f-407d-8f9e-a77fa7db3aa9',\n",
       "   'updated_at': '2017-07-08T17:58:59.175Z'},\n",
       "  {'created_at': '2017-07-08T17:58:59.193Z',\n",
       "   'device_id': 56,\n",
       "   'id': 547,\n",
       "   'sequence': 5,\n",
       "   'token': 'eff335bf-37eb-4833-a92d-1042b1c7725e',\n",
       "   'updated_at': '2017-07-08T17:58:59.193Z'},\n",
       "  {'created_at': '2017-07-08T17:58:59.209Z',\n",
       "   'device_id': 56,\n",
       "   'id': 548,\n",
       "   'sequence': 6,\n",
       "   'token': 'cf096f0e-5e1b-4ade-9975-41f575435dc4',\n",
       "   'updated_at': '2017-07-08T17:58:59.209Z'},\n",
       "  {'created_at': '2017-07-08T17:58:59.225Z',\n",
       "   'device_id': 56,\n",
       "   'id': 549,\n",
       "   'sequence': 7,\n",
       "   'token': '448eda08-9f2c-4fd8-8508-a8ece0c01faf',\n",
       "   'updated_at': '2017-07-08T17:58:59.225Z'},\n",
       "  {'created_at': '2017-07-08T17:58:59.239Z',\n",
       "   'device_id': 56,\n",
       "   'id': 550,\n",
       "   'sequence': 8,\n",
       "   'token': '55312358-90d7-4edb-88f1-0a3617330bda',\n",
       "   'updated_at': '2017-07-08T17:58:59.239Z'},\n",
       "  {'created_at': '2017-07-08T17:58:59.253Z',\n",
       "   'device_id': 56,\n",
       "   'id': 551,\n",
       "   'sequence': 9,\n",
       "   'token': 'f0e771c2-9e0a-4f91-87cc-a76e10bcef2a',\n",
       "   'updated_at': '2017-07-08T17:58:59.253Z'}],\n",
       " 'device': {'created_at': '2017-07-08T17:58:58.794Z',\n",
       "  'id': 56,\n",
       "  'key_rotation_enabled': False,\n",
       "  'last_used_key_sequence': -1,\n",
       "  'linked': False,\n",
       "  'name': None,\n",
       "  'updated_at': '2017-07-08T17:58:58.794Z',\n",
       "  'user_id': 10,\n",
       "  'uuid': '642d609a-de17-477a-a1f3-0ee0decc116a'}}"
      ]
     },
     "execution_count": 105,
     "metadata": {},
     "output_type": "execute_result"
    }
   ],
   "source": [
    "data.json()"
   ]
  },
  {
   "cell_type": "code",
   "execution_count": 45,
   "metadata": {
    "collapsed": true
   },
   "outputs": [],
   "source": [
    "#/streams/log_data/:id/\n",
    "# streams\n",
    "#data = requests.post('http://vs2.sp33c.de/api/users/streams/55.json', data={}, headers=headers)\n",
    "data = requests.post('http://vs2.sp33c.de/api/users/streams/55/webhooks', data={'url':'https://logger-egoeesojud.now.sh/webhook', 'active': 'true'}, headers=headers)\n"
   ]
  },
  {
   "cell_type": "code",
   "execution_count": 46,
   "metadata": {},
   "outputs": [
    {
     "data": {
      "text/plain": [
       "200"
      ]
     },
     "execution_count": 46,
     "metadata": {},
     "output_type": "execute_result"
    }
   ],
   "source": [
    "data.status_code"
   ]
  },
  {
   "cell_type": "code",
   "execution_count": 47,
   "metadata": {},
   "outputs": [
    {
     "data": {
      "text/plain": [
       "{'active': True,\n",
       " 'created_at': '2017-07-08T17:47:28.086Z',\n",
       " 'device_id': 55,\n",
       " 'id': 3,\n",
       " 'updated_at': '2017-07-08T17:47:28.086Z',\n",
       " 'url': 'https://logger-egoeesojud.now.sh/webhook'}"
      ]
     },
     "execution_count": 47,
     "metadata": {},
     "output_type": "execute_result"
    }
   ],
   "source": [
    "data.json()"
   ]
  },
  {
   "cell_type": "code",
   "execution_count": 110,
   "metadata": {},
   "outputs": [
    {
     "name": "stdout",
     "output_type": "stream",
     "text": [
      "404\n",
      "{'errors': ['Log datum ID not found']}\n"
     ]
    }
   ],
   "source": [
    "image1 = ('images[]', ('image.png', open('image.png', 'rb'), 'image/png'))\n",
    "image2 = ('images[]', ('image.png', open('image.png', 'rb'), 'image/png'))\n",
    "files = [image1, image2]\n",
    "\n",
    "r = requests.post(BASE_URL + '/streams/log_data/56/images/', files=files, headers=headers)\n",
    "print(r.status_code)\n",
    "print(r.json())"
   ]
  },
  {
   "cell_type": "code",
   "execution_count": 109,
   "metadata": {
    "collapsed": true
   },
   "outputs": [],
   "source": [
    "headers = {'X-Access-Token': 'aafbad29-0652-4927-ada6-d7744c20162c'}"
   ]
  },
  {
   "cell_type": "code",
   "execution_count": null,
   "metadata": {
    "collapsed": true
   },
   "outputs": [],
   "source": []
  }
 ],
 "metadata": {
  "celltoolbar": "Attachments",
  "kernelspec": {
   "display_name": "Python 3",
   "language": "python",
   "name": "python3"
  },
  "language_info": {
   "codemirror_mode": {
    "name": "ipython",
    "version": 2
   },
   "file_extension": ".py",
   "mimetype": "text/x-python",
   "name": "python",
   "nbconvert_exporter": "python",
   "pygments_lexer": "ipython2",
   "version": "2.7.15rc1"
  }
 },
 "nbformat": 4,
 "nbformat_minor": 2
}
